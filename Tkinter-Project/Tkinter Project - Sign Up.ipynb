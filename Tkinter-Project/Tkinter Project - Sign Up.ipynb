{
 "cells": [
  {
   "cell_type": "code",
   "execution_count": 1,
   "id": "545bf6dd",
   "metadata": {},
   "outputs": [],
   "source": [
    "from tkinter import *\n",
    "from tkinter import messagebox\n",
    "import ast"
   ]
  },
  {
   "cell_type": "code",
   "execution_count": 2,
   "id": "72da3aa6",
   "metadata": {},
   "outputs": [],
   "source": [
    "window =Tk()\n",
    "window.title(\"SignUp\")\n",
    "window.geometry('925x500+300+200')\n",
    "window.configure(bg='#fff')\n",
    "window.resizable(False,False)\n",
    "\n",
    "def signup():\n",
    "    Username=user.get()\n",
    "    password=code.get()\n",
    "    conform_password=conform_code.get()\n",
    "    \n",
    "    if password==conform_password:\n",
    "        try:\n",
    "            file=open('datasheet.txt','r+')\n",
    "            d=file.read()\n",
    "            r=ast.literal_eval(d)\n",
    "#             print(r,\"r\")\n",
    "            \n",
    "            dict2=[{'username':Username,\"password\":password}]\n",
    "            r =r +dict2\n",
    "            file.truncate(0)\n",
    "            file.close()\n",
    "            \n",
    "            file=open('datasheet.txt','w')\n",
    "            w=file.write(str(r))\n",
    "            \n",
    "            messagebox.showinfo(\"Signup\",\"Successfully sign up\")\n",
    "            \n",
    "        except:\n",
    "            file=open('datasheet.txt','w')\n",
    "            pp=str([{'username':Username,\"password\":password}])\n",
    "            file.write(pp)\n",
    "            file.close()\n",
    "            messagebox.showinfo(\"Signup\",\"Successfully sign up\")\n",
    "    else:\n",
    "        messagebox.showerror(\"Invalid\",\"Both Password should match\")\n",
    "        \n",
    "#  To call sing in function\n",
    "\n",
    "def sign():\n",
    "    window.destroy()\n",
    "    \n",
    "    "
   ]
  },
  {
   "cell_type": "code",
   "execution_count": 3,
   "id": "fff5193a",
   "metadata": {},
   "outputs": [],
   "source": [
    "img= PhotoImage(file='C:/Users/Hemanth/Downloads/loginn.png')\n",
    "Label(window,image=img,border=0,bg='white').place(x=50,y=90)"
   ]
  },
  {
   "cell_type": "code",
   "execution_count": 4,
   "id": "eadb4e32",
   "metadata": {},
   "outputs": [],
   "source": [
    "frame=Frame(window,width=350,height=390,bg='#fff')\n",
    "frame.place(x=480,y=50)"
   ]
  },
  {
   "cell_type": "code",
   "execution_count": 5,
   "id": "991c0a33",
   "metadata": {},
   "outputs": [],
   "source": [
    "heading=Label(frame,text='Sign up',fg=\"#57a1f8\",bg='white',font=('Microsoft Yahei UI Light',23,'bold'))\n",
    "heading.place(x=100,y=5)"
   ]
  },
  {
   "cell_type": "markdown",
   "id": "3f78bce5",
   "metadata": {},
   "source": [
    "##### -------------------------------------------------------------------- Username"
   ]
  },
  {
   "cell_type": "code",
   "execution_count": 6,
   "id": "6fe0f4a5",
   "metadata": {},
   "outputs": [],
   "source": [
    "def on_enter(e):\n",
    "    user.delete(0,'end')\n",
    "def on_leave(e):\n",
    "    name=user.get()\n",
    "    if name=='':\n",
    "        user.insert(0,'Username')\n",
    "\n",
    "user = Entry(frame,width=25,fg='black',border=0,bg='white',font=('Microsoft Yahei UI Light',11))\n",
    "user.place(x=30,y=80)\n",
    "user.insert(0,'Username')\n",
    "user.bind(\"<FocusIn>\",on_enter)\n",
    "user.bind(\"<FocusOut>\",on_leave)\n",
    "\n",
    "Frame(frame,width=295,height=2,bg='black').place(x=25,y=107)"
   ]
  },
  {
   "cell_type": "markdown",
   "id": "fc4cf0b4",
   "metadata": {},
   "source": [
    "##### ------------------------------------------------------------------- Password"
   ]
  },
  {
   "cell_type": "code",
   "execution_count": 7,
   "id": "111f21bf",
   "metadata": {},
   "outputs": [],
   "source": [
    "def on_enter(e):\n",
    "    code.delete(0,'end')\n",
    "def on_leave(e):\n",
    "    name=code.get()\n",
    "    if name=='':\n",
    "        code.insert(0,'Password')\n",
    "\n",
    "code = Entry(frame,width=25,fg='black',border=0,bg='white',font=('Microsoft Yahei UI Light',11))\n",
    "code.place(x=30,y=150)\n",
    "code.insert(0,'Password')\n",
    "code.bind(\"<FocusIn>\",on_enter)\n",
    "code.bind(\"<FocusOut>\",on_leave)\n",
    "\n",
    "Frame(frame,width=295,height=2,bg='black').place(x=25,y=177)"
   ]
  },
  {
   "cell_type": "markdown",
   "id": "6b25489a",
   "metadata": {},
   "source": [
    "###### ------------------------------------------------------------------- Conform Password"
   ]
  },
  {
   "cell_type": "code",
   "execution_count": 8,
   "id": "45432f47",
   "metadata": {},
   "outputs": [],
   "source": [
    "def on_enter(e):\n",
    "    conform_code.delete(0,'end')\n",
    "def on_leave(e):\n",
    "    name=conform_code.get()\n",
    "    if name=='':\n",
    "        conform_code.insert(0,'Conform Password')\n",
    "\n",
    "conform_code = Entry(frame,width=25,fg='black',border=0,bg='white',font=('Microsoft Yahei UI Light',11))\n",
    "conform_code.place(x=30,y=220)\n",
    "conform_code.insert(0,'Conform Password')\n",
    "conform_code.bind(\"<FocusIn>\",on_enter)\n",
    "conform_code.bind(\"<FocusOut>\",on_leave)\n",
    "\n",
    "Frame(frame,width=295,height=2,bg='black').place(x=25,y=247)"
   ]
  },
  {
   "cell_type": "markdown",
   "id": "6d2ae9d8",
   "metadata": {},
   "source": [
    "###### ------------------ Button"
   ]
  },
  {
   "cell_type": "code",
   "execution_count": 9,
   "id": "139aec5e",
   "metadata": {},
   "outputs": [],
   "source": [
    "Button(frame,width=39,pady=7,text='Sign up',bg='#57a1f8',fg='white',border=0,command=signup).place(x=35,y=280)\n",
    "label=Label(frame,text='I have an account',fg='black',bg='white',font=('Mirosoft Yahei UI Light',9))\n",
    "label.place(x=90,y=340)\n",
    "\n",
    "signin=Button(frame,width=6,text='Sign in',border=0,bg='white',cursor='hand2',fg='#57a1f8',command=sign)\n",
    "signin.place(x=200,y=340)"
   ]
  },
  {
   "cell_type": "code",
   "execution_count": 10,
   "id": "9617fe41",
   "metadata": {},
   "outputs": [],
   "source": [
    "window.mainloop()"
   ]
  },
  {
   "cell_type": "code",
   "execution_count": null,
   "id": "3be8d725",
   "metadata": {},
   "outputs": [],
   "source": []
  }
 ],
 "metadata": {
  "kernelspec": {
   "display_name": "Python 3 (ipykernel)",
   "language": "python",
   "name": "python3"
  },
  "language_info": {
   "codemirror_mode": {
    "name": "ipython",
    "version": 3
   },
   "file_extension": ".py",
   "mimetype": "text/x-python",
   "name": "python",
   "nbconvert_exporter": "python",
   "pygments_lexer": "ipython3",
   "version": "3.9.12"
  }
 },
 "nbformat": 4,
 "nbformat_minor": 5
}
