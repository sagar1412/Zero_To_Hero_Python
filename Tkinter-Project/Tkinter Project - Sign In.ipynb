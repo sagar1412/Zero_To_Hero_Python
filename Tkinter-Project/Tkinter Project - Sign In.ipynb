{
 "cells": [
  {
   "cell_type": "code",
   "execution_count": 1,
   "id": "66bc7b86",
   "metadata": {},
   "outputs": [],
   "source": [
    "from tkinter import *\n",
    "from tkinter import messagebox\n",
    "import ast"
   ]
  },
  {
   "cell_type": "code",
   "execution_count": 2,
   "id": "0b95728f",
   "metadata": {},
   "outputs": [],
   "source": [
    "root=Tk()\n",
    "root.title(\"Login\")\n",
    "root.geometry('925x500+300+200')\n",
    "root.configure(bg='#fff')\n",
    "root.resizable(False,False)\n",
    "\n",
    "def signin():\n",
    "    username=user.get()\n",
    "    password=code.get()\n",
    "    \n",
    "#     file=open('datasheet.txt','r')\n",
    "#     d=file.read()\n",
    "#     r=ast.literal_eval(d)\n",
    "#     file.close()\n",
    "    \n",
    "#     print(r.keys())\n",
    "#     print(r.values())\n",
    "    \n",
    "#     for i in range(len(r)):\n",
    "#         if r[i][\"username\"]==username and r[i][\"password\"]==password:    \n",
    "    if username=='admin' and password=='1234':\n",
    "#     if username in r.keys() and password==r[username]:  \n",
    "            screen=Toplevel(root)\n",
    "            screen.title(\"App\")\n",
    "            screen.geometry('925x500+300+200')\n",
    "            screen.config(bg='white')\n",
    "\n",
    "            Label(screen,text='Hello Everyone!',bg='#fff',font=('calibri(Body)',50,'bold')).pack(expand=True)\n",
    "\n",
    "            screen.mainloop()\n",
    "        \n",
    "#     elif username!='admin' and password!='1234':\n",
    "#         messagebox.showerror(\"Invalid\",\"invalid username and password\")\n",
    "        \n",
    "#     elif username!='admin':\n",
    "#         messagebox.showerror(\"Invalid\",\"invalid username\")\n",
    "        \n",
    "#     elif password!='1234':\n",
    "#         messagebox.showerror(\"Invalid\",\"invalid Password\") \n",
    "\n",
    "    else:\n",
    "        messagebox.showerror('Invalid','Invalid username or password')"
   ]
  },
  {
   "cell_type": "code",
   "execution_count": 3,
   "id": "e1cd537d",
   "metadata": {},
   "outputs": [],
   "source": [
    "img= PhotoImage(file='C:/Users/Hemanth/Downloads/logn.png')\n",
    "Label(root,image=img,border=0,bg='white').place(x=50,y=50)"
   ]
  },
  {
   "cell_type": "code",
   "execution_count": 4,
   "id": "05db1ca2",
   "metadata": {},
   "outputs": [],
   "source": [
    "frame=Frame(root,width=350,height=350,bg='white')\n",
    "frame.place(x=480,y=70)"
   ]
  },
  {
   "cell_type": "code",
   "execution_count": 5,
   "id": "e520099e",
   "metadata": {},
   "outputs": [],
   "source": [
    "heading=Label(frame,text='Sign in',fg=\"#57a1f8\",bg='white',font=('Microsoft Yahei UI Light',23,'bold'))\n",
    "heading.place(x=100,y=5)"
   ]
  },
  {
   "cell_type": "markdown",
   "id": "f420cf54",
   "metadata": {},
   "source": [
    "###### ------------------------------------------------------------------ Username¶"
   ]
  },
  {
   "cell_type": "code",
   "execution_count": 6,
   "id": "23855323",
   "metadata": {},
   "outputs": [],
   "source": [
    "def on_enter(e):\n",
    "    user.delete(0,'end')\n",
    "def on_leave(e):\n",
    "    name=user.get()\n",
    "    if name=='':\n",
    "        user.insert(0,'Username')\n",
    "\n",
    "user = Entry(frame,width=25,fg='black',border=0,bg='white',font=('Microsoft Yahei UI Light',11))\n",
    "user.place(x=30,y=80)\n",
    "user.insert(0,'Username')\n",
    "user.bind(\"<FocusIn>\",on_enter)\n",
    "user.bind(\"<FocusOut>\",on_leave)\n",
    "\n",
    "Frame(frame,width=295,height=2,bg='black').place(x=25,y=107)"
   ]
  },
  {
   "cell_type": "markdown",
   "id": "b7ce7588",
   "metadata": {},
   "source": [
    "#### -------------------------------------------------------- Password\n"
   ]
  },
  {
   "cell_type": "code",
   "execution_count": 7,
   "id": "6566dc03",
   "metadata": {},
   "outputs": [],
   "source": [
    "def on_enter(e):\n",
    "    code.delete(0,'end')\n",
    "def on_leave(e):\n",
    "    name=code.get()\n",
    "    if name=='':\n",
    "        code.insert(0,'Password')\n",
    "\n",
    "code = Entry(frame,width=25,fg='black',border=0,bg='white',font=('Microsoft Yahei UI Light',11))\n",
    "code.place(x=30,y=150)\n",
    "code.insert(0,'Password')\n",
    "code.bind(\"<FocusIn>\",on_enter)\n",
    "code.bind(\"<FocusOut>\",on_leave)\n",
    "\n",
    "Frame(frame,width=295,height=2,bg='black').place(x=25,y=177)\n",
    "\n"
   ]
  },
  {
   "cell_type": "markdown",
   "id": "ed5d11a4",
   "metadata": {},
   "source": [
    "#### ------------------ Button"
   ]
  },
  {
   "cell_type": "code",
   "execution_count": 8,
   "id": "8c6959d5",
   "metadata": {},
   "outputs": [],
   "source": [
    "\n",
    "Button(frame,width=39,pady=7,text='Sign in',bg='#57a1f8',fg='white',border=0,command=signin).place(x=35,y=204)\n",
    "label=Label(frame,text=\"Don't have an account\",fg='black',bg='white',font=('Mirosoft Yahei UI Light',9))\n",
    "label.place(x=75,y=270)\n",
    "\n",
    "sign_up= Button(frame,width=6,text='Sign up',border=0,bg='white',cursor='hand2',fg='#57a1f8')\n",
    "sign_up.place(x=215,y=270)\n"
   ]
  },
  {
   "cell_type": "code",
   "execution_count": 9,
   "id": "178e6c69",
   "metadata": {},
   "outputs": [],
   "source": [
    "root.mainloop()"
   ]
  },
  {
   "cell_type": "code",
   "execution_count": null,
   "id": "cc47aa09",
   "metadata": {},
   "outputs": [],
   "source": []
  }
 ],
 "metadata": {
  "kernelspec": {
   "display_name": "Python 3 (ipykernel)",
   "language": "python",
   "name": "python3"
  },
  "language_info": {
   "codemirror_mode": {
    "name": "ipython",
    "version": 3
   },
   "file_extension": ".py",
   "mimetype": "text/x-python",
   "name": "python",
   "nbconvert_exporter": "python",
   "pygments_lexer": "ipython3",
   "version": "3.9.12"
  }
 },
 "nbformat": 4,
 "nbformat_minor": 5
}
